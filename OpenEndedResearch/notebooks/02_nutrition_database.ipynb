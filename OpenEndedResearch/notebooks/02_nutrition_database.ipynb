{
 "cells": [
  {
   "cell_type": "markdown",
   "metadata": {},
   "source": [
    "Food-101 Nutrition Database Creation\n",
    "-----------------------------------\n",
    "This notebook creates a mapping from Food-101 food classes to nutritional information.\n"
   ]
  },
  {
   "cell_type": "code",
   "execution_count": 22,
   "metadata": {},
   "outputs": [
    {
     "name": "stdout",
     "output_type": "stream",
     "text": [
      "Found 101 unique food classes in Food-101\n"
     ]
    }
   ],
   "source": [
    "import pandas as pd\n",
    "import json\n",
    "import os\n",
    "from tqdm import tqdm\n",
    "import matplotlib.pyplot as plt\n",
    "\n",
    "# Create directories for saving data\n",
    "os.makedirs(\"../nutrition_data\", exist_ok=True)\n",
    "\n",
    "# Load Food-101 dataset\n",
    "food101_df = pd.read_pickle(\"../data/food101_df.pkl\")\n",
    "unique_foods = sorted(food101_df['label'].unique())\n",
    "print(f\"Found {len(unique_foods)} unique food classes in Food-101\")\n"
   ]
  },
  {
   "cell_type": "code",
   "execution_count": 23,
   "metadata": {},
   "outputs": [],
   "source": [
    "# Manual nutrition data for common foods in Food-101\n",
    "manual_nutrition_data = {\n",
    "    \"apple_pie\": {\"protein\": 3.6, \"carbohydrates\": 34.0, \"fat\": 15.0, \"calories\": 277},\n",
    "    \"baby_back_ribs\": {\"protein\": 22.0, \"carbohydrates\": 5.0, \"fat\": 18.0, \"calories\": 280},\n",
    "    \"baklava\": {\"protein\": 6.0, \"carbohydrates\": 40.0, \"fat\": 25.0, \"calories\": 403},\n",
    "    \"beef_carpaccio\": {\"protein\": 28.0, \"carbohydrates\": 0.5, \"fat\": 14.0, \"calories\": 245},\n",
    "    \"beef_tartare\": {\"protein\": 20.0, \"carbohydrates\": 1.0, \"fat\": 15.0, \"calories\": 220},\n",
    "    \"beet_salad\": {\"protein\": 3.5, \"carbohydrates\": 12.0, \"fat\": 7.0, \"calories\": 120},\n",
    "    \"beignets\": {\"protein\": 5.0, \"carbohydrates\": 35.0, \"fat\": 18.0, \"calories\": 310},\n",
    "    \"bibimbap\": {\"protein\": 15.0, \"carbohydrates\": 55.0, \"fat\": 10.0, \"calories\": 360},\n",
    "    \"bread_pudding\": {\"protein\": 7.0, \"carbohydrates\": 40.0, \"fat\": 14.0, \"calories\": 310},\n",
    "    \"breakfast_burrito\": {\"protein\": 18.0, \"carbohydrates\": 30.0, \"fat\": 16.0, \"calories\": 350},\n",
    "    \"caesar_salad\": {\"protein\": 7.0, \"carbohydrates\": 7.0, \"fat\": 15.0, \"calories\": 180},\n",
    "    \"cheesecake\": {\"protein\": 7.0, \"carbohydrates\": 28.0, \"fat\": 23.0, \"calories\": 340},\n",
    "    \"chocolate_cake\": {\"protein\": 5.0, \"carbohydrates\": 40.0, \"fat\": 16.0, \"calories\": 320},\n",
    "    \"chocolate_mousse\": {\"protein\": 6.0, \"carbohydrates\": 25.0, \"fat\": 18.0, \"calories\": 280},\n",
    "    \"churros\": {\"protein\": 3.0, \"carbohydrates\": 30.0, \"fat\": 15.0, \"calories\": 260},\n",
    "    \"clam_chowder\": {\"protein\": 8.0, \"carbohydrates\": 16.0, \"fat\": 9.0, \"calories\": 175},\n",
    "    \"club_sandwich\": {\"protein\": 22.0, \"carbohydrates\": 28.0, \"fat\": 15.0, \"calories\": 335},\n",
    "    \"crab_cakes\": {\"protein\": 15.0, \"carbohydrates\": 10.0, \"fat\": 12.0, \"calories\": 205},\n",
    "    \"creme_brulee\": {\"protein\": 5.0, \"carbohydrates\": 30.0, \"fat\": 20.0, \"calories\": 315},\n",
    "    \"croque_madame\": {\"protein\": 20.0, \"carbohydrates\": 25.0, \"fat\": 22.0, \"calories\": 380},\n",
    "    \"cup_cakes\": {\"protein\": 3.0, \"carbohydrates\": 30.0, \"fat\": 14.0, \"calories\": 255},\n",
    "    \"deviled_eggs\": {\"protein\": 6.0, \"carbohydrates\": 1.0, \"fat\": 8.0, \"calories\": 100},\n",
    "    \"donuts\": {\"protein\": 3.0, \"carbohydrates\": 25.0, \"fat\": 12.0, \"calories\": 220},\n",
    "    \"dumplings\": {\"protein\": 8.0, \"carbohydrates\": 25.0, \"fat\": 5.0, \"calories\": 175},\n",
    "    \"edamame\": {\"protein\": 11.0, \"carbohydrates\": 10.0, \"fat\": 5.0, \"calories\": 125},\n",
    "    \"eggs_benedict\": {\"protein\": 18.0, \"carbohydrates\": 18.0, \"fat\": 28.0, \"calories\": 390},\n",
    "    \"fish_and_chips\": {\"protein\": 15.0, \"carbohydrates\": 45.0, \"fat\": 20.0, \"calories\": 415},\n",
    "    \"french_fries\": {\"protein\": 3.0, \"carbohydrates\": 35.0, \"fat\": 15.0, \"calories\": 285},\n",
    "    \"french_toast\": {\"protein\": 8.0, \"carbohydrates\": 28.0, \"fat\": 12.0, \"calories\": 250},\n",
    "    \"fried_rice\": {\"protein\": 8.0, \"carbohydrates\": 45.0, \"fat\": 12.0, \"calories\": 320},\n",
    "    # Add more items as needed...\n",
    "}"
   ]
  },
  {
   "cell_type": "code",
   "execution_count": 24,
   "metadata": {},
   "outputs": [],
   "source": [
    "# Function to categorize foods for fallback estimates\n",
    "def categorize_food(food_name):\n",
    "    \"\"\"Categorize food for estimating nutrition values\"\"\"\n",
    "    desserts = [\"pie\", \"cake\", \"ice_cream\", \"pudding\", \"mousse\", \"tart\", \"cheesecake\", \n",
    "                \"creme_brulee\", \"tiramisu\", \"baklava\", \"churros\", \"eclair\"]\n",
    "    \n",
    "    meats = [\"steak\", \"ribs\", \"pork\", \"chicken\", \"beef\", \"turkey\", \"lamb\", \"ham\", \"bacon\"]\n",
    "    \n",
    "    seafood = [\"fish\", \"shrimp\", \"lobster\", \"crab\", \"clam\", \"mussel\", \"squid\", \"oyster\", \n",
    "               \"salmon\", \"tuna\"]\n",
    "    \n",
    "    salads = [\"salad\", \"slaw\", \"greens\"]\n",
    "    \n",
    "    pasta = [\"pasta\", \"spaghetti\", \"fettuccine\", \"linguine\", \"penne\", \"macaroni\", \"noodle\"]\n",
    "    \n",
    "    soups = [\"soup\", \"chowder\", \"broth\", \"stew\", \"bisque\"]\n",
    "    \n",
    "    sandwiches = [\"sandwich\", \"burger\", \"hot_dog\", \"wrap\", \"taco\", \"burrito\", \"quesadilla\"]\n",
    "    \n",
    "    breakfast = [\"pancake\", \"waffle\", \"french_toast\", \"omelette\", \"benedict\", \"muffin\"]\n",
    "    \n",
    "    fried = [\"fried\", \"fries\", \"chips\", \"tempura\", \"fritter\", \"croquette\"]\n",
    "    \n",
    "    # Convert food name to terms for matching\n",
    "    terms = food_name.lower().split('_')\n",
    "    \n",
    "    # Check categories\n",
    "    if any(term in desserts for term in terms) or any(d in food_name for d in desserts):\n",
    "        return \"dessert\"\n",
    "    elif any(term in meats for term in terms) or any(m in food_name for m in meats):\n",
    "        return \"meat\"\n",
    "    elif any(term in seafood for term in terms) or any(s in food_name for s in seafood):\n",
    "        return \"seafood\"\n",
    "    elif any(term in salads for term in terms) or any(s in food_name for s in salads):\n",
    "        return \"salad\"\n",
    "    elif any(term in pasta for term in terms) or any(p in food_name for p in pasta):\n",
    "        return \"pasta\"\n",
    "    elif any(term in soups for term in terms) or any(s in food_name for s in soups):\n",
    "        return \"soup\"\n",
    "    elif any(term in sandwiches for term in terms) or any(s in food_name for s in sandwiches):\n",
    "        return \"sandwich\"\n",
    "    elif any(term in breakfast for term in terms) or any(b in food_name for b in breakfast):\n",
    "        return \"breakfast\"\n",
    "    elif any(term in fried for term in terms) or any(f in food_name for f in fried):\n",
    "        return \"fried\"\n",
    "    else:\n",
    "        return \"other\""
   ]
  },
  {
   "cell_type": "code",
   "execution_count": 25,
   "metadata": {},
   "outputs": [],
   "source": [
    "# Get estimated nutrition values based on food category\n",
    "def get_category_estimate(food_name):\n",
    "    \"\"\"Get estimated nutrition values based on food category\"\"\"\n",
    "    category = categorize_food(food_name)\n",
    "    \n",
    "    estimates = {\n",
    "        \"dessert\": {\n",
    "            \"protein\": 5.0, \"carbohydrates\": 35.0, \"fat\": 15.0, \"calories\": 300.0,\n",
    "            \"source\": \"category_estimate\", \"category\": \"dessert\"\n",
    "        },\n",
    "        \"meat\": {\n",
    "            \"protein\": 25.0, \"carbohydrates\": 5.0, \"fat\": 15.0, \"calories\": 250.0,\n",
    "            \"source\": \"category_estimate\", \"category\": \"meat\"\n",
    "        },\n",
    "        \"seafood\": {\n",
    "            \"protein\": 20.0, \"carbohydrates\": 5.0, \"fat\": 10.0, \"calories\": 180.0,\n",
    "            \"source\": \"category_estimate\", \"category\": \"seafood\"\n",
    "        },\n",
    "        \"salad\": {\n",
    "            \"protein\": 5.0, \"carbohydrates\": 10.0, \"fat\": 10.0, \"calories\": 150.0,\n",
    "            \"source\": \"category_estimate\", \"category\": \"salad\"\n",
    "        },\n",
    "        \"pasta\": {\n",
    "            \"protein\": 12.0, \"carbohydrates\": 45.0, \"fat\": 10.0, \"calories\": 320.0,\n",
    "            \"source\": \"category_estimate\", \"category\": \"pasta\"\n",
    "        },\n",
    "        \"soup\": {\n",
    "            \"protein\": 8.0, \"carbohydrates\": 15.0, \"fat\": 7.0, \"calories\": 150.0,\n",
    "            \"source\": \"category_estimate\", \"category\": \"soup\"\n",
    "        },\n",
    "        \"sandwich\": {\n",
    "            \"protein\": 15.0, \"carbohydrates\": 30.0, \"fat\": 15.0, \"calories\": 350.0,\n",
    "            \"source\": \"category_estimate\", \"category\": \"sandwich\"\n",
    "        },\n",
    "        \"breakfast\": {\n",
    "            \"protein\": 10.0, \"carbohydrates\": 30.0, \"fat\": 15.0, \"calories\": 300.0,\n",
    "            \"source\": \"category_estimate\", \"category\": \"breakfast\"\n",
    "        },\n",
    "        \"fried\": {\n",
    "            \"protein\": 8.0, \"carbohydrates\": 30.0, \"fat\": 20.0, \"calories\": 350.0,\n",
    "            \"source\": \"category_estimate\", \"category\": \"fried\"\n",
    "        },\n",
    "        \"other\": {\n",
    "            \"protein\": 10.0, \"carbohydrates\": 25.0, \"fat\": 12.0, \"calories\": 250.0,\n",
    "            \"source\": \"category_estimate\", \"category\": \"other\"\n",
    "        }\n",
    "    }\n",
    "    \n",
    "    return estimates[category]\n"
   ]
  },
  {
   "cell_type": "code",
   "execution_count": 26,
   "metadata": {},
   "outputs": [
    {
     "name": "stdout",
     "output_type": "stream",
     "text": [
      "Building nutrition database...\n"
     ]
    },
    {
     "name": "stderr",
     "output_type": "stream",
     "text": [
      "Processing foods: 100%|██████████| 101/101 [00:00<00:00, 120656.42it/s]"
     ]
    },
    {
     "name": "stdout",
     "output_type": "stream",
     "text": [
      "Nutrition database saved successfully!\n"
     ]
    },
    {
     "name": "stderr",
     "output_type": "stream",
     "text": [
      "\n"
     ]
    }
   ],
   "source": [
    "# Initialize nutrition database\n",
    "nutrition_db = {}\n",
    "print(\"Building nutrition database...\")\n",
    "\n",
    "# Build nutrition database with progress tracking\n",
    "for food in tqdm(unique_foods, desc=\"Processing foods\"):\n",
    "    # Check if we already have this food in our manual database\n",
    "    if food in manual_nutrition_data:\n",
    "        nutrition_data = manual_nutrition_data[food].copy()\n",
    "        nutrition_data['source'] = 'manual'\n",
    "        nutrition_db[food] = nutrition_data\n",
    "    else:\n",
    "        # If not in manual database, use category-based estimate\n",
    "        nutrition_db[food] = get_category_estimate(food)\n",
    "\n",
    "# Save complete nutrition database\n",
    "with open('../nutrition_data/food101_nutrition_database.json', 'w') as f:\n",
    "    json.dump(nutrition_db, f, indent=2)\n",
    "\n",
    "print(\"Nutrition database saved successfully!\")"
   ]
  },
  {
   "cell_type": "code",
   "execution_count": 27,
   "metadata": {},
   "outputs": [
    {
     "data": {
      "text/plain": [
       "Text(0.5, 1.0, 'Nutrition Data Sources')"
      ]
     },
     "execution_count": 27,
     "metadata": {},
     "output_type": "execute_result"
    },
    {
     "data": {
      "image/png": "[encoded data removed]",
      "text/plain": [
       "<Figure size 1000x500 with 1 Axes>"
      ]
     },
     "metadata": {},
     "output_type": "display_data"
    }
   ],
   "source": [
    "# Analyze sources of nutrition data\n",
    "sources = {}\n",
    "categories = {}\n",
    "\n",
    "for food, data in nutrition_db.items():\n",
    "    # Track sources\n",
    "    source = data.get('source', 'unknown')\n",
    "    if source not in sources:\n",
    "        sources[source] = 0\n",
    "    sources[source] += 1\n",
    "    \n",
    "    # Track categories for estimated data\n",
    "    if source == 'category_estimate':\n",
    "        category = data.get('category', 'unknown')\n",
    "        if category not in categories:\n",
    "            categories[category] = 0\n",
    "        categories[category] += 1\n",
    "\n",
    "# Plot sources distribution\n",
    "plt.figure(figsize=(10, 5))\n",
    "plt.subplot(1, 2, 1)\n",
    "plt.pie([v for v in sources.values()], labels=[k for k in sources.keys()], autopct='%1.1f%%')\n",
    "plt.title('Nutrition Data Sources')"
   ]
  },
  {
   "cell_type": "code",
   "execution_count": 28,
   "metadata": {},
   "outputs": [
    {
     "name": "stdout",
     "output_type": "stream",
     "text": [
      "\n",
      "Sample nutrition data:\n",
      "apple_pie: {'protein': 3.6, 'carbohydrates': 34.0, 'fat': 15.0, 'calories': 277, 'source': 'manual'}\n",
      "baby_back_ribs: {'protein': 22.0, 'carbohydrates': 5.0, 'fat': 18.0, 'calories': 280, 'source': 'manual'}\n",
      "baklava: {'protein': 6.0, 'carbohydrates': 40.0, 'fat': 25.0, 'calories': 403, 'source': 'manual'}\n",
      "beef_carpaccio: {'protein': 28.0, 'carbohydrates': 0.5, 'fat': 14.0, 'calories': 245, 'source': 'manual'}\n",
      "beef_tartare: {'protein': 20.0, 'carbohydrates': 1.0, 'fat': 15.0, 'calories': 220, 'source': 'manual'}\n",
      "Nutrition database creation complete!\n"
     ]
    }
   ],
   "source": [
    "# Display sample entries\n",
    "print(\"\\nSample nutrition data:\")\n",
    "for food in unique_foods[:5]:  # First 5 foods\n",
    "    print(f\"{food}: {nutrition_db[food]}\")\n",
    "\n",
    "print(\"Nutrition database creation complete!\")"
   ]
  }
 ],
 "metadata": {
  "kernelspec": {
   "display_name": ".venv",
   "language": "python",
   "name": "python3"
  },
  "language_info": {
   "codemirror_mode": {
    "name": "ipython",
    "version": 3
   },
   "file_extension": ".py",
   "mimetype": "text/x-python",
   "name": "python",
   "nbconvert_exporter": "python",
   "pygments_lexer": "ipython3",
   "version": "3.9.21"
  }
 },
 "nbformat": 4,
 "nbformat_minor": 2
}
