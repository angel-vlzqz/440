{
 "cells": [
  {
   "cell_type": "code",
   "execution_count": 12,
   "metadata": {},
   "outputs": [],
   "source": [
    "import pandas as pd\n",
    "import numpy as np\n",
    "from sklearn.preprocessing import StandardScaler, LabelEncoder\n",
    "\n",
    "def preprocess_obesity_data(file_path):\n",
    "    # 1. Load the data\n",
    "    df = pd.read_csv(file_path)\n",
    "    \n",
    "    # 2. Check for missing values\n",
    "    print(\"Missing values:\\n\", df.isnull().sum())\n",
    "    \n",
    "    # 3. Simple data validation\n",
    "    # Remove any rows where height or weight are unreasonable\n",
    "    df = df[(df['Height'] > 1.4) & (df['Height'] < 2.2) &\n",
    "            (df['Weight'] > 40) & (df['Weight'] < 200)]\n",
    "    \n",
    "    # 4. Encode categorical variables using Label Encoder\n",
    "    categorical_cols = ['Gender', 'family_history', 'FAVC', 'CAEC', \n",
    "                       'SMOKE', 'SCC', 'CALC', 'MTRANS']\n",
    "    \n",
    "    for col in categorical_cols:\n",
    "        le = LabelEncoder()\n",
    "        df[col] = le.fit_transform(df[col])\n",
    "    \n",
    "    # 5. Scale numerical variables (now without Weight)\n",
    "    numerical_cols = ['Age', 'Height', 'FCVC', 'NCP', \n",
    "                     'CH2O', 'FAF', 'TUE']\n",
    "    \n",
    "    scaler = StandardScaler()\n",
    "    df[numerical_cols] = scaler.fit_transform(df[numerical_cols])\n",
    "    \n",
    "    # 6. Split features and target, dropping both BMI and Weight\n",
    "    X = df.drop(['BMI', 'Weight'], axis=1)\n",
    "    y = df['BMI']\n",
    "    \n",
    "    # 7. Print basic statistics\n",
    "    print(\"\\nDataset shape:\", df.shape)\n",
    "    print(\"\\nFeature names:\", list(X.columns))\n",
    "    \n",
    "    return X, y"
   ]
  },
  {
   "cell_type": "code",
   "execution_count": 13,
   "metadata": {},
   "outputs": [
    {
     "name": "stdout",
     "output_type": "stream",
     "text": [
      "Missing values:\n",
      " Gender            0\n",
      "Age               0\n",
      "Height            0\n",
      "Weight            0\n",
      "family_history    0\n",
      "FAVC              0\n",
      "FCVC              0\n",
      "NCP               0\n",
      "CAEC              0\n",
      "SMOKE             0\n",
      "CH2O              0\n",
      "SCC               0\n",
      "FAF               0\n",
      "TUE               0\n",
      "CALC              0\n",
      "MTRANS            0\n",
      "BMI               0\n",
      "dtype: int64\n",
      "\n",
      "Dataset shape: (2105, 17)\n",
      "\n",
      "Feature names: ['Gender', 'Age', 'Height', 'family_history', 'FAVC', 'FCVC', 'NCP', 'CAEC', 'SMOKE', 'CH2O', 'SCC', 'FAF', 'TUE', 'CALC', 'MTRANS']\n"
     ]
    }
   ],
   "source": [
    "x,y =preprocess_obesity_data(\"ObesityPrediction.csv\")"
   ]
  },
  {
   "cell_type": "code",
   "execution_count": 16,
   "metadata": {},
   "outputs": [
    {
     "name": "stdout",
     "output_type": "stream",
     "text": [
      "0       24.386526\n",
      "1       24.238227\n",
      "2       23.765432\n",
      "3       26.851852\n",
      "4       28.342381\n",
      "          ...    \n",
      "2106    44.901475\n",
      "2107    43.741923\n",
      "2108    43.543817\n",
      "2109    44.071535\n",
      "2110    44.144338\n",
      "Name: BMI, Length: 2105, dtype: float64\n"
     ]
    }
   ],
   "source": [
    "print(y)"
   ]
  },
  {
   "cell_type": "code",
   "execution_count": 15,
   "metadata": {},
   "outputs": [
    {
     "name": "stdout",
     "output_type": "stream",
     "text": [
      "      Gender       Age    Height  family_history  FAVC      FCVC       NCP  \\\n",
      "0          0 -0.524137 -0.882009               1     0 -0.793282  0.402928   \n",
      "1          0 -0.524137 -1.956374               1     0  1.087496  0.402928   \n",
      "2          1 -0.209058  1.051847               1     0 -0.793282  0.402928   \n",
      "3          1  0.421101  1.051847               0     0  1.087496  0.402928   \n",
      "4          1 -0.366598  0.836974               0     0 -0.793282 -2.168920   \n",
      "...      ...       ...       ...             ...   ...       ...       ...   \n",
      "2106       0 -0.527786  0.092762               1     1  1.087496  0.402928   \n",
      "2107       0 -0.369285  0.499452               1     1  1.087496  0.402928   \n",
      "2108       0 -0.284041  0.538365               1     1  1.087496  0.402928   \n",
      "2109       0  0.005501  0.401319               1     1  1.087496  0.402928   \n",
      "2110       0 -0.104340  0.394723               1     1  1.087496  0.402928   \n",
      "\n",
      "      CAEC  SMOKE      CH2O  SCC       FAF       TUE  CALC  MTRANS  \n",
      "0        2      0 -0.014522    0 -1.187744  0.568638     3       3  \n",
      "1        2      1  1.616743    1  2.346544 -1.079475     2       3  \n",
      "2        2      0 -0.014522    0  1.168448  0.568638     1       3  \n",
      "3        2      0 -0.014522    0  1.168448 -1.079475     1       4  \n",
      "4        2      0 -0.014522    0 -1.187744 -1.079475     2       3  \n",
      "...    ...    ...       ...  ...       ...       ...   ...     ...  \n",
      "2106     2      0 -0.458000    0  0.787062  0.414123     2       3  \n",
      "2107     2      0 -0.006154    0  0.392542 -0.091810     2       3  \n",
      "2108     2      0  0.073881    0  0.478330 -0.014319     2       3  \n",
      "2109     2      0  1.375869    0  0.154233 -0.113623     2       3  \n",
      "2110     2      0  1.394097    0  0.021515  0.097504     2       3  \n",
      "\n",
      "[2105 rows x 15 columns]\n"
     ]
    }
   ],
   "source": [
    "print(x)"
   ]
  },
  {
   "cell_type": "code",
   "execution_count": null,
   "metadata": {},
   "outputs": [],
   "source": []
  }
 ],
 "metadata": {
  "kernelspec": {
   "display_name": "Python 3",
   "language": "python",
   "name": "python3"
  },
  "language_info": {
   "codemirror_mode": {
    "name": "ipython",
    "version": 3
   },
   "file_extension": ".py",
   "mimetype": "text/x-python",
   "name": "python",
   "nbconvert_exporter": "python",
   "pygments_lexer": "ipython3",
   "version": "3.12.9"
  }
 },
 "nbformat": 4,
 "nbformat_minor": 2
}
